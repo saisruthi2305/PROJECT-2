{
 "cells": [
  {
   "cell_type": "code",
   "execution_count": 49,
   "id": "fe150798-d242-48f1-94c6-762aca56799d",
   "metadata": {},
   "outputs": [],
   "source": [
    "import nltk\n",
    "from nltk.stem import WordNetLemmatizer\n",
    "from nltk.corpus import stopwords\n",
    "import string\n",
    "from sklearn.feature_extraction.text import CountVectorizer\n",
    "from sklearn.naive_bayes import MultinomialNB\n",
    "import random"
   ]
  },
  {
   "cell_type": "code",
   "execution_count": 50,
   "id": "5a5ff2bd-1df0-4102-b8a2-52b092156e01",
   "metadata": {},
   "outputs": [
    {
     "name": "stderr",
     "output_type": "stream",
     "text": [
      "[nltk_data] Downloading package punkt to\n",
      "[nltk_data]     C:\\Users\\dell\\AppData\\Roaming\\nltk_data...\n",
      "[nltk_data]   Package punkt is already up-to-date!\n",
      "[nltk_data] Downloading package wordnet to\n",
      "[nltk_data]     C:\\Users\\dell\\AppData\\Roaming\\nltk_data...\n",
      "[nltk_data]   Package wordnet is already up-to-date!\n",
      "[nltk_data] Downloading package stopwords to\n",
      "[nltk_data]     C:\\Users\\dell\\AppData\\Roaming\\nltk_data...\n",
      "[nltk_data]   Package stopwords is already up-to-date!\n"
     ]
    },
    {
     "data": {
      "text/plain": [
       "True"
      ]
     },
     "execution_count": 50,
     "metadata": {},
     "output_type": "execute_result"
    }
   ],
   "source": [
    "# Download NLTK data\n",
    "nltk.download('punkt')\n",
    "nltk.download('wordnet')\n",
    "nltk.download('stopwords')\n"
   ]
  },
  {
   "cell_type": "code",
   "execution_count": 51,
   "id": "25ce0bba-8382-44d0-9e16-8f97cb1357bb",
   "metadata": {},
   "outputs": [],
   "source": [
    "# Initialize the lemmatizer and stop words\n",
    "lemmatizer = WordNetLemmatizer()\n",
    "stop_words = set(stopwords.words('english'))"
   ]
  },
  {
   "cell_type": "code",
   "execution_count": 52,
   "id": "99ab828e-0ffc-4c0a-80be-528ed3c8c7bd",
   "metadata": {},
   "outputs": [],
   "source": [
    "# Text preprocessing function\n",
    "def preprocess_text(text):\n",
    "    tokens = nltk.word_tokenize(text)\n",
    "    tokens = [word.lower() for word in tokens]\n",
    "    tokens = [lemmatizer.lemmatize(word) for word in tokens if word not in string.punctuation and word not in stop_words]\n",
    "    return tokens"
   ]
  },
  {
   "cell_type": "code",
   "execution_count": 53,
   "id": "fae0dd39-d7ba-4b50-85a7-94b404af4fcd",
   "metadata": {},
   "outputs": [],
   "source": [
    "# Sample training data\n",
    "training_sentences = [\"Hi\", \"Hello\", \"What can you do?\", \"Tell me a joke\", \"Goodbye\"]\n",
    "training_intents = [\"greeting\", \"greeting\", \"ask_capabilities\", \"tell_joke\", \"goodbye\"]\n"
   ]
  },
  {
   "cell_type": "code",
   "execution_count": 54,
   "id": "959abb6b-cd70-499e-b36b-287481bcdfc3",
   "metadata": {},
   "outputs": [],
   "source": [
    "# Preprocess and vectorize the training data\n",
    "training_data = [' '.join(preprocess_text(sentence)) for sentence in training_sentences]\n",
    "vectorizer = CountVectorizer()\n",
    "X = vectorizer.fit_transform(training_data)"
   ]
  },
  {
   "cell_type": "code",
   "execution_count": 55,
   "id": "3afaa6ac-f50c-4cf4-9dfa-992fd278648d",
   "metadata": {},
   "outputs": [
    {
     "data": {
      "text/html": [
       "<style>#sk-container-id-2 {color: black;background-color: white;}#sk-container-id-2 pre{padding: 0;}#sk-container-id-2 div.sk-toggleable {background-color: white;}#sk-container-id-2 label.sk-toggleable__label {cursor: pointer;display: block;width: 100%;margin-bottom: 0;padding: 0.3em;box-sizing: border-box;text-align: center;}#sk-container-id-2 label.sk-toggleable__label-arrow:before {content: \"▸\";float: left;margin-right: 0.25em;color: #696969;}#sk-container-id-2 label.sk-toggleable__label-arrow:hover:before {color: black;}#sk-container-id-2 div.sk-estimator:hover label.sk-toggleable__label-arrow:before {color: black;}#sk-container-id-2 div.sk-toggleable__content {max-height: 0;max-width: 0;overflow: hidden;text-align: left;background-color: #f0f8ff;}#sk-container-id-2 div.sk-toggleable__content pre {margin: 0.2em;color: black;border-radius: 0.25em;background-color: #f0f8ff;}#sk-container-id-2 input.sk-toggleable__control:checked~div.sk-toggleable__content {max-height: 200px;max-width: 100%;overflow: auto;}#sk-container-id-2 input.sk-toggleable__control:checked~label.sk-toggleable__label-arrow:before {content: \"▾\";}#sk-container-id-2 div.sk-estimator input.sk-toggleable__control:checked~label.sk-toggleable__label {background-color: #d4ebff;}#sk-container-id-2 div.sk-label input.sk-toggleable__control:checked~label.sk-toggleable__label {background-color: #d4ebff;}#sk-container-id-2 input.sk-hidden--visually {border: 0;clip: rect(1px 1px 1px 1px);clip: rect(1px, 1px, 1px, 1px);height: 1px;margin: -1px;overflow: hidden;padding: 0;position: absolute;width: 1px;}#sk-container-id-2 div.sk-estimator {font-family: monospace;background-color: #f0f8ff;border: 1px dotted black;border-radius: 0.25em;box-sizing: border-box;margin-bottom: 0.5em;}#sk-container-id-2 div.sk-estimator:hover {background-color: #d4ebff;}#sk-container-id-2 div.sk-parallel-item::after {content: \"\";width: 100%;border-bottom: 1px solid gray;flex-grow: 1;}#sk-container-id-2 div.sk-label:hover label.sk-toggleable__label {background-color: #d4ebff;}#sk-container-id-2 div.sk-serial::before {content: \"\";position: absolute;border-left: 1px solid gray;box-sizing: border-box;top: 0;bottom: 0;left: 50%;z-index: 0;}#sk-container-id-2 div.sk-serial {display: flex;flex-direction: column;align-items: center;background-color: white;padding-right: 0.2em;padding-left: 0.2em;position: relative;}#sk-container-id-2 div.sk-item {position: relative;z-index: 1;}#sk-container-id-2 div.sk-parallel {display: flex;align-items: stretch;justify-content: center;background-color: white;position: relative;}#sk-container-id-2 div.sk-item::before, #sk-container-id-2 div.sk-parallel-item::before {content: \"\";position: absolute;border-left: 1px solid gray;box-sizing: border-box;top: 0;bottom: 0;left: 50%;z-index: -1;}#sk-container-id-2 div.sk-parallel-item {display: flex;flex-direction: column;z-index: 1;position: relative;background-color: white;}#sk-container-id-2 div.sk-parallel-item:first-child::after {align-self: flex-end;width: 50%;}#sk-container-id-2 div.sk-parallel-item:last-child::after {align-self: flex-start;width: 50%;}#sk-container-id-2 div.sk-parallel-item:only-child::after {width: 0;}#sk-container-id-2 div.sk-dashed-wrapped {border: 1px dashed gray;margin: 0 0.4em 0.5em 0.4em;box-sizing: border-box;padding-bottom: 0.4em;background-color: white;}#sk-container-id-2 div.sk-label label {font-family: monospace;font-weight: bold;display: inline-block;line-height: 1.2em;}#sk-container-id-2 div.sk-label-container {text-align: center;}#sk-container-id-2 div.sk-container {/* jupyter's `normalize.less` sets `[hidden] { display: none; }` but bootstrap.min.css set `[hidden] { display: none !important; }` so we also need the `!important` here to be able to override the default hidden behavior on the sphinx rendered scikit-learn.org. See: https://github.com/scikit-learn/scikit-learn/issues/21755 */display: inline-block !important;position: relative;}#sk-container-id-2 div.sk-text-repr-fallback {display: none;}</style><div id=\"sk-container-id-2\" class=\"sk-top-container\"><div class=\"sk-text-repr-fallback\"><pre>MultinomialNB()</pre><b>In a Jupyter environment, please rerun this cell to show the HTML representation or trust the notebook. <br />On GitHub, the HTML representation is unable to render, please try loading this page with nbviewer.org.</b></div><div class=\"sk-container\" hidden><div class=\"sk-item\"><div class=\"sk-estimator sk-toggleable\"><input class=\"sk-toggleable__control sk-hidden--visually\" id=\"sk-estimator-id-2\" type=\"checkbox\" checked><label for=\"sk-estimator-id-2\" class=\"sk-toggleable__label sk-toggleable__label-arrow\">MultinomialNB</label><div class=\"sk-toggleable__content\"><pre>MultinomialNB()</pre></div></div></div></div></div>"
      ],
      "text/plain": [
       "MultinomialNB()"
      ]
     },
     "execution_count": 55,
     "metadata": {},
     "output_type": "execute_result"
    }
   ],
   "source": [
    "# Train a simple Naive Bayes classifier\n",
    "clf = MultinomialNB()\n",
    "clf.fit(X, training_intents)\n"
   ]
  },
  {
   "cell_type": "code",
   "execution_count": 56,
   "id": "50722f9a-a329-4b5c-8a97-d5c01a037f5f",
   "metadata": {},
   "outputs": [],
   "source": [
    "# Predict intent function\n",
    "def predict_intent(text):\n",
    "    preprocessed = ' '.join(preprocess_text(text))\n",
    "    vectorized = vectorizer.transform([preprocessed])\n",
    "    intent = clf.predict(vectorized)\n",
    "    return intent[0]\n"
   ]
  },
  {
   "cell_type": "code",
   "execution_count": 62,
   "id": "09e70a5f-ed37-44ce-8727-20a372a37603",
   "metadata": {},
   "outputs": [],
   "source": [
    "# Response generation\n",
    "responses = {\"greeting\": [\"Hello! How can I assist you today?\", \"Hi there! What can I do for you?\", \"Hey! How's it going?\"],\"ask_capabilities\": [\"I can help you with your queries, tell jokes, and more!\", \"I'm here to chat and assist you. What do you need?\"],\"tell_joke\": [\"Why don't scientists trust atoms? Because they make up everything!\", \"What do you call fake spaghetti? An impasta!\"],\"goodbye\": [\"Goodbye! Have a great day!\", \"See you later!\", \"Bye! Take care!\"]}\n"
   ]
  },
  {
   "cell_type": "code",
   "execution_count": 63,
   "id": "87a5473f-a757-4193-a698-769d8099455c",
   "metadata": {},
   "outputs": [],
   "source": [
    "# Generate response based on intent\n",
    "def generate_response(intent):\n",
    "    if intent in responses:\n",
    "        return random.choice(responses[intent])\n",
    "    else:\n",
    "        return \"Sorry, I didn't understand that. Can you please rephrase?\"\n"
   ]
  },
  {
   "cell_type": "code",
   "execution_count": 59,
   "id": "485ad46b-ae76-418a-bff6-5c671feaff04",
   "metadata": {},
   "outputs": [],
   "source": [
    "# Chatbot class for context management\n",
    "class Chatbot:\n",
    "    def __init__(self):\n",
    "        self.context = None\n",
    "        # Chatbot class for context management\n",
    "    def handle_input(self, user_input):\n",
    "        intent = predict_intent(user_input)\n",
    "        if self.context == \"joke\" and intent == \"greeting\":\n",
    "            return \"I already told you a joke! Anything else I can do?\"\n",
    "        self.context = intent\n",
    "        return generate_response(intent)"
   ]
  },
  {
   "cell_type": "code",
   "execution_count": 60,
   "id": "378d2558-8f0f-4c14-bd88-0f2bf0722373",
   "metadata": {},
   "outputs": [],
   "source": [
    "# Initialize the chatbot\n",
    "chatbot = Chatbot()\n"
   ]
  },
  {
   "cell_type": "code",
   "execution_count": 61,
   "id": "0aeba7f2-c3b8-4619-995e-28c3160a1c4b",
   "metadata": {},
   "outputs": [
    {
     "name": "stdout",
     "output_type": "stream",
     "text": [
      "User: Hi\n",
      "Chatbot: Hello! How can I assist you today?\n",
      "User: What can you do?\n",
      "Chatbot: Hey! How's it going?\n",
      "User: Tell me a joke\n",
      "Chatbot: What do you call fake spaghetti? An impasta!\n",
      "User: Goodbye\n",
      "Chatbot: See you later!\n"
     ]
    }
   ],
   "source": [
    "# Test the chatbot with different inputs\n",
    "user_input = \"Hi\"\n",
    "response = chatbot.handle_input(user_input)\n",
    "print(f\"User: {user_input}\\nChatbot: {response}\")\n",
    "\n",
    "user_input = \"What can you do?\"\n",
    "response = chatbot.handle_input(user_input)\n",
    "print(f\"User: {user_input}\\nChatbot: {response}\")\n",
    "\n",
    "user_input = \"Tell me a joke\"\n",
    "response = chatbot.handle_input(user_input)\n",
    "print(f\"User: {user_input}\\nChatbot: {response}\")\n",
    "\n",
    "user_input = \"Goodbye\"\n",
    "response = chatbot.handle_input(user_input)\n",
    "print(f\"User: {user_input}\\nChatbot: {response}\")\n"
   ]
  }
 ],
 "metadata": {
  "kernelspec": {
   "display_name": "Python 3 (ipykernel)",
   "language": "python",
   "name": "python3"
  },
  "language_info": {
   "codemirror_mode": {
    "name": "ipython",
    "version": 3
   },
   "file_extension": ".py",
   "mimetype": "text/x-python",
   "name": "python",
   "nbconvert_exporter": "python",
   "pygments_lexer": "ipython3",
   "version": "3.11.7"
  }
 },
 "nbformat": 4,
 "nbformat_minor": 5
}
